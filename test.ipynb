{
 "cells": [
  {
   "cell_type": "code",
   "execution_count": 10,
   "metadata": {},
   "outputs": [
    {
     "name": "stdout",
     "output_type": "stream",
     "text": [
      "[2 2 2 2 2]\n",
      "[ True  True]\n"
     ]
    }
   ],
   "source": [
    "import numpy as np\n",
    "num= 10\n",
    "num_tasks =5\n",
    "cpertask = np.array([num // num_tasks] * num_tasks)\n",
    "print(cpertask)\n",
    "print(np.isin([0,3],[0,1,2,3,4]))\n"
   ]
  }
 ],
 "metadata": {
  "interpreter": {
   "hash": "e5910aa6a43c42ce2957b93a7e5044b7629cd13fc3a467ce3aa689e2a1972163"
  },
  "kernelspec": {
   "display_name": "Python 3.8.12 64-bit ('elva': conda)",
   "language": "python",
   "name": "python3"
  },
  "language_info": {
   "codemirror_mode": {
    "name": "ipython",
    "version": 3
   },
   "file_extension": ".py",
   "mimetype": "text/x-python",
   "name": "python",
   "nbconvert_exporter": "python",
   "pygments_lexer": "ipython3",
   "version": "3.8.12"
  },
  "orig_nbformat": 4
 },
 "nbformat": 4,
 "nbformat_minor": 2
}
